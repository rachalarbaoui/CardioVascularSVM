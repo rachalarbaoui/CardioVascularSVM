{
  "nbformat": 4,
  "nbformat_minor": 0,
  "metadata": {
    "colab": {
      "name": "cardio vascular classifier SVM.ipynb",
      "provenance": [],
      "collapsed_sections": []
    },
    "kernelspec": {
      "name": "python3",
      "display_name": "Python 3"
    },
    "language_info": {
      "name": "python"
    }
  },
  "cells": [
    {
      "cell_type": "code",
      "metadata": {
        "id": "9NXDHX6lMeRN"
      },
      "source": [
        "import pandas as pd\n",
        "from matplotlib import pyplot as plt\n",
        "import numpy as np\n",
        "from sklearn.model_selection import train_test_split\n",
        "from sklearn.svm import SVC\n",
        "from sklearn import metrics\n",
        "from sklearn.preprocessing import LabelEncoder\n",
        "import pickle\n",
        "import seaborn as sns\n",
        "from sklearn.preprocessing import StandardScaler\n",
        "from sklearn.utils import resample\n",
        "from sklearn.preprocessing import scale\n",
        "from sklearn.model_selection import GridSearchCV\n",
        "from sklearn.decomposition import PCA\n",
        "import csv\n",
        "from sklearn.preprocessing import StandardScaler"
      ],
      "execution_count": null,
      "outputs": []
    },
    {
      "cell_type": "code",
      "metadata": {
        "colab": {
          "base_uri": "https://localhost:8080/"
        },
        "id": "KibSpaPqMstD",
        "outputId": "745376c7-842d-4ac3-86a3-654b272985ce"
      },
      "source": [
        "from google.colab import drive\n",
        "drive.mount('/content/Drive')"
      ],
      "execution_count": null,
      "outputs": [
        {
          "output_type": "stream",
          "text": [
            "Mounted at /content/Drive\n"
          ],
          "name": "stdout"
        }
      ]
    },
    {
      "cell_type": "code",
      "metadata": {
        "id": "aMZS-idYMtV3"
      },
      "source": [
        "reader = csv.reader(open(\"/content/Drive/MyDrive/Cardio vascular dataset/cardiovascular_diseases_dv3.csv\", \"r\"), delimiter=';')\n",
        "writer = csv.writer(open(\"/home/cardiovascular_diseases_dv3.csv\", 'w'), delimiter=',')\n",
        "writer.writerows(reader)"
      ],
      "execution_count": null,
      "outputs": []
    },
    {
      "cell_type": "code",
      "metadata": {
        "colab": {
          "base_uri": "https://localhost:8080/",
          "height": 359
        },
        "id": "ZoKJichVMvzC",
        "outputId": "9b55dc89-92e7-48aa-9af6-e7a49b9116e6"
      },
      "source": [
        "df = pd.read_csv(\"/home/cardiovascular_diseases_dv3.csv\")\n",
        "df.head(10)"
      ],
      "execution_count": null,
      "outputs": [
        {
          "output_type": "execute_result",
          "data": {
            "text/html": [
              "<div>\n",
              "<style scoped>\n",
              "    .dataframe tbody tr th:only-of-type {\n",
              "        vertical-align: middle;\n",
              "    }\n",
              "\n",
              "    .dataframe tbody tr th {\n",
              "        vertical-align: top;\n",
              "    }\n",
              "\n",
              "    .dataframe thead th {\n",
              "        text-align: right;\n",
              "    }\n",
              "</style>\n",
              "<table border=\"1\" class=\"dataframe\">\n",
              "  <thead>\n",
              "    <tr style=\"text-align: right;\">\n",
              "      <th></th>\n",
              "      <th>AGE</th>\n",
              "      <th>GENDER</th>\n",
              "      <th>HEIGHT</th>\n",
              "      <th>WEIGHT</th>\n",
              "      <th>AP_HIGH</th>\n",
              "      <th>AP_LOW</th>\n",
              "      <th>CHOLESTEROL</th>\n",
              "      <th>GLUCOSE</th>\n",
              "      <th>SMOKE</th>\n",
              "      <th>ALCOHOL</th>\n",
              "      <th>PHYSICAL_ACTIVITY</th>\n",
              "      <th>CARDIO_DISEASE</th>\n",
              "    </tr>\n",
              "  </thead>\n",
              "  <tbody>\n",
              "    <tr>\n",
              "      <th>0</th>\n",
              "      <td>50</td>\n",
              "      <td>2</td>\n",
              "      <td>168</td>\n",
              "      <td>62</td>\n",
              "      <td>110</td>\n",
              "      <td>80</td>\n",
              "      <td>1</td>\n",
              "      <td>1</td>\n",
              "      <td>0</td>\n",
              "      <td>0</td>\n",
              "      <td>1</td>\n",
              "      <td>0</td>\n",
              "    </tr>\n",
              "    <tr>\n",
              "      <th>1</th>\n",
              "      <td>55</td>\n",
              "      <td>1</td>\n",
              "      <td>156</td>\n",
              "      <td>85</td>\n",
              "      <td>140</td>\n",
              "      <td>90</td>\n",
              "      <td>3</td>\n",
              "      <td>1</td>\n",
              "      <td>0</td>\n",
              "      <td>0</td>\n",
              "      <td>1</td>\n",
              "      <td>1</td>\n",
              "    </tr>\n",
              "    <tr>\n",
              "      <th>2</th>\n",
              "      <td>52</td>\n",
              "      <td>1</td>\n",
              "      <td>165</td>\n",
              "      <td>64</td>\n",
              "      <td>130</td>\n",
              "      <td>70</td>\n",
              "      <td>3</td>\n",
              "      <td>1</td>\n",
              "      <td>0</td>\n",
              "      <td>0</td>\n",
              "      <td>0</td>\n",
              "      <td>1</td>\n",
              "    </tr>\n",
              "    <tr>\n",
              "      <th>3</th>\n",
              "      <td>48</td>\n",
              "      <td>2</td>\n",
              "      <td>169</td>\n",
              "      <td>82</td>\n",
              "      <td>150</td>\n",
              "      <td>100</td>\n",
              "      <td>1</td>\n",
              "      <td>1</td>\n",
              "      <td>0</td>\n",
              "      <td>0</td>\n",
              "      <td>1</td>\n",
              "      <td>1</td>\n",
              "    </tr>\n",
              "    <tr>\n",
              "      <th>4</th>\n",
              "      <td>48</td>\n",
              "      <td>1</td>\n",
              "      <td>156</td>\n",
              "      <td>56</td>\n",
              "      <td>100</td>\n",
              "      <td>60</td>\n",
              "      <td>1</td>\n",
              "      <td>1</td>\n",
              "      <td>0</td>\n",
              "      <td>0</td>\n",
              "      <td>0</td>\n",
              "      <td>0</td>\n",
              "    </tr>\n",
              "    <tr>\n",
              "      <th>5</th>\n",
              "      <td>60</td>\n",
              "      <td>1</td>\n",
              "      <td>151</td>\n",
              "      <td>67</td>\n",
              "      <td>120</td>\n",
              "      <td>80</td>\n",
              "      <td>2</td>\n",
              "      <td>2</td>\n",
              "      <td>0</td>\n",
              "      <td>0</td>\n",
              "      <td>0</td>\n",
              "      <td>0</td>\n",
              "    </tr>\n",
              "    <tr>\n",
              "      <th>6</th>\n",
              "      <td>61</td>\n",
              "      <td>1</td>\n",
              "      <td>157</td>\n",
              "      <td>93</td>\n",
              "      <td>130</td>\n",
              "      <td>80</td>\n",
              "      <td>3</td>\n",
              "      <td>1</td>\n",
              "      <td>0</td>\n",
              "      <td>0</td>\n",
              "      <td>1</td>\n",
              "      <td>0</td>\n",
              "    </tr>\n",
              "    <tr>\n",
              "      <th>7</th>\n",
              "      <td>62</td>\n",
              "      <td>2</td>\n",
              "      <td>178</td>\n",
              "      <td>95</td>\n",
              "      <td>130</td>\n",
              "      <td>90</td>\n",
              "      <td>3</td>\n",
              "      <td>3</td>\n",
              "      <td>0</td>\n",
              "      <td>0</td>\n",
              "      <td>1</td>\n",
              "      <td>1</td>\n",
              "    </tr>\n",
              "    <tr>\n",
              "      <th>8</th>\n",
              "      <td>48</td>\n",
              "      <td>1</td>\n",
              "      <td>158</td>\n",
              "      <td>71</td>\n",
              "      <td>110</td>\n",
              "      <td>70</td>\n",
              "      <td>1</td>\n",
              "      <td>1</td>\n",
              "      <td>0</td>\n",
              "      <td>0</td>\n",
              "      <td>1</td>\n",
              "      <td>0</td>\n",
              "    </tr>\n",
              "    <tr>\n",
              "      <th>9</th>\n",
              "      <td>54</td>\n",
              "      <td>1</td>\n",
              "      <td>164</td>\n",
              "      <td>68</td>\n",
              "      <td>110</td>\n",
              "      <td>60</td>\n",
              "      <td>1</td>\n",
              "      <td>1</td>\n",
              "      <td>0</td>\n",
              "      <td>0</td>\n",
              "      <td>0</td>\n",
              "      <td>0</td>\n",
              "    </tr>\n",
              "  </tbody>\n",
              "</table>\n",
              "</div>"
            ],
            "text/plain": [
              "   AGE  GENDER  HEIGHT  ...  ALCOHOL  PHYSICAL_ACTIVITY  CARDIO_DISEASE\n",
              "0   50       2     168  ...        0                  1               0\n",
              "1   55       1     156  ...        0                  1               1\n",
              "2   52       1     165  ...        0                  0               1\n",
              "3   48       2     169  ...        0                  1               1\n",
              "4   48       1     156  ...        0                  0               0\n",
              "5   60       1     151  ...        0                  0               0\n",
              "6   61       1     157  ...        0                  1               0\n",
              "7   62       2     178  ...        0                  1               1\n",
              "8   48       1     158  ...        0                  1               0\n",
              "9   54       1     164  ...        0                  0               0\n",
              "\n",
              "[10 rows x 12 columns]"
            ]
          },
          "metadata": {
            "tags": []
          },
          "execution_count": 4
        }
      ]
    },
    {
      "cell_type": "code",
      "metadata": {
        "colab": {
          "base_uri": "https://localhost:8080/"
        },
        "id": "d3nSKZ-qNY4o",
        "outputId": "1406be79-85da-428f-fc5a-c23715e1f399"
      },
      "source": [
        "df.info()"
      ],
      "execution_count": null,
      "outputs": [
        {
          "output_type": "stream",
          "text": [
            "<class 'pandas.core.frame.DataFrame'>\n",
            "RangeIndex: 68564 entries, 0 to 68563\n",
            "Data columns (total 12 columns):\n",
            " #   Column             Non-Null Count  Dtype\n",
            "---  ------             --------------  -----\n",
            " 0   AGE                68564 non-null  int64\n",
            " 1   GENDER             68564 non-null  int64\n",
            " 2   HEIGHT             68564 non-null  int64\n",
            " 3   WEIGHT             68564 non-null  int64\n",
            " 4   AP_HIGH            68564 non-null  int64\n",
            " 5   AP_LOW             68564 non-null  int64\n",
            " 6   CHOLESTEROL        68564 non-null  int64\n",
            " 7   GLUCOSE            68564 non-null  int64\n",
            " 8   SMOKE              68564 non-null  int64\n",
            " 9   ALCOHOL            68564 non-null  int64\n",
            " 10  PHYSICAL_ACTIVITY  68564 non-null  int64\n",
            " 11  CARDIO_DISEASE     68564 non-null  int64\n",
            "dtypes: int64(12)\n",
            "memory usage: 6.3 MB\n"
          ],
          "name": "stdout"
        }
      ]
    },
    {
      "cell_type": "code",
      "metadata": {
        "id": "VnGes_lgNd9z"
      },
      "source": [
        "X = df.drop(\"CARDIO_DISEASE\", axis = 1)\n",
        "Y = df['CARDIO_DISEASE']"
      ],
      "execution_count": null,
      "outputs": []
    },
    {
      "cell_type": "code",
      "metadata": {
        "id": "LpVZnOhsN08Z"
      },
      "source": [
        "X_train, X_test, y_train, y_test = train_test_split(X, Y, test_size=0.2, random_state=42,shuffle = True)"
      ],
      "execution_count": null,
      "outputs": []
    },
    {
      "cell_type": "code",
      "metadata": {
        "id": "BAr1f1XamqBd"
      },
      "source": [
        "sc_X=StandardScaler()\n",
        "X_train[['AGE','HEIGHT','WEIGHT','AP_HIGH','AP_LOW']]=sc_X.fit_transform(X_train[['AGE','HEIGHT','WEIGHT','AP_HIGH','AP_LOW']])\n",
        "X_test[['AGE','HEIGHT','WEIGHT','AP_HIGH','AP_LOW']] = sc_X.transform(X_test[['AGE','HEIGHT','WEIGHT','AP_HIGH','AP_LOW']])"
      ],
      "execution_count": null,
      "outputs": []
    },
    {
      "cell_type": "code",
      "metadata": {
        "colab": {
          "base_uri": "https://localhost:8080/",
          "height": 359
        },
        "id": "kAMC_OLWnKzn",
        "outputId": "4f45b6ce-cd1e-480e-cc1a-ea0f8e11aac4"
      },
      "source": [
        "X_train.head(10)"
      ],
      "execution_count": null,
      "outputs": [
        {
          "output_type": "execute_result",
          "data": {
            "text/html": [
              "<div>\n",
              "<style scoped>\n",
              "    .dataframe tbody tr th:only-of-type {\n",
              "        vertical-align: middle;\n",
              "    }\n",
              "\n",
              "    .dataframe tbody tr th {\n",
              "        vertical-align: top;\n",
              "    }\n",
              "\n",
              "    .dataframe thead th {\n",
              "        text-align: right;\n",
              "    }\n",
              "</style>\n",
              "<table border=\"1\" class=\"dataframe\">\n",
              "  <thead>\n",
              "    <tr style=\"text-align: right;\">\n",
              "      <th></th>\n",
              "      <th>AGE</th>\n",
              "      <th>GENDER</th>\n",
              "      <th>HEIGHT</th>\n",
              "      <th>WEIGHT</th>\n",
              "      <th>AP_HIGH</th>\n",
              "      <th>AP_LOW</th>\n",
              "      <th>CHOLESTEROL</th>\n",
              "      <th>GLUCOSE</th>\n",
              "      <th>SMOKE</th>\n",
              "      <th>ALCOHOL</th>\n",
              "      <th>PHYSICAL_ACTIVITY</th>\n",
              "    </tr>\n",
              "  </thead>\n",
              "  <tbody>\n",
              "    <tr>\n",
              "      <th>18619</th>\n",
              "      <td>-1.675374</td>\n",
              "      <td>1</td>\n",
              "      <td>-1.153180</td>\n",
              "      <td>6.192816</td>\n",
              "      <td>3.187577</td>\n",
              "      <td>1.928954</td>\n",
              "      <td>1</td>\n",
              "      <td>1</td>\n",
              "      <td>0</td>\n",
              "      <td>0</td>\n",
              "      <td>1</td>\n",
              "    </tr>\n",
              "    <tr>\n",
              "      <th>49555</th>\n",
              "      <td>0.096826</td>\n",
              "      <td>1</td>\n",
              "      <td>-0.661587</td>\n",
              "      <td>0.131434</td>\n",
              "      <td>-0.395408</td>\n",
              "      <td>-0.145934</td>\n",
              "      <td>1</td>\n",
              "      <td>1</td>\n",
              "      <td>0</td>\n",
              "      <td>0</td>\n",
              "      <td>1</td>\n",
              "    </tr>\n",
              "    <tr>\n",
              "      <th>15399</th>\n",
              "      <td>-1.823057</td>\n",
              "      <td>2</td>\n",
              "      <td>0.813190</td>\n",
              "      <td>-0.147250</td>\n",
              "      <td>-0.395408</td>\n",
              "      <td>0.891510</td>\n",
              "      <td>1</td>\n",
              "      <td>1</td>\n",
              "      <td>0</td>\n",
              "      <td>0</td>\n",
              "      <td>1</td>\n",
              "    </tr>\n",
              "    <tr>\n",
              "      <th>40554</th>\n",
              "      <td>1.278292</td>\n",
              "      <td>1</td>\n",
              "      <td>-1.030282</td>\n",
              "      <td>-0.634948</td>\n",
              "      <td>-0.395408</td>\n",
              "      <td>-0.145934</td>\n",
              "      <td>1</td>\n",
              "      <td>1</td>\n",
              "      <td>0</td>\n",
              "      <td>0</td>\n",
              "      <td>1</td>\n",
              "    </tr>\n",
              "    <tr>\n",
              "      <th>39145</th>\n",
              "      <td>0.096826</td>\n",
              "      <td>1</td>\n",
              "      <td>0.690292</td>\n",
              "      <td>1.455184</td>\n",
              "      <td>0.201756</td>\n",
              "      <td>0.891510</td>\n",
              "      <td>1</td>\n",
              "      <td>1</td>\n",
              "      <td>0</td>\n",
              "      <td>0</td>\n",
              "      <td>1</td>\n",
              "    </tr>\n",
              "    <tr>\n",
              "      <th>2601</th>\n",
              "      <td>-1.970740</td>\n",
              "      <td>2</td>\n",
              "      <td>0.690292</td>\n",
              "      <td>0.688802</td>\n",
              "      <td>0.798920</td>\n",
              "      <td>0.891510</td>\n",
              "      <td>1</td>\n",
              "      <td>2</td>\n",
              "      <td>0</td>\n",
              "      <td>0</td>\n",
              "      <td>1</td>\n",
              "    </tr>\n",
              "    <tr>\n",
              "      <th>55375</th>\n",
              "      <td>-1.970740</td>\n",
              "      <td>1</td>\n",
              "      <td>0.444495</td>\n",
              "      <td>-0.495606</td>\n",
              "      <td>-0.395408</td>\n",
              "      <td>-0.145934</td>\n",
              "      <td>3</td>\n",
              "      <td>3</td>\n",
              "      <td>0</td>\n",
              "      <td>0</td>\n",
              "      <td>1</td>\n",
              "    </tr>\n",
              "    <tr>\n",
              "      <th>60249</th>\n",
              "      <td>0.687559</td>\n",
              "      <td>1</td>\n",
              "      <td>2.410865</td>\n",
              "      <td>-0.286592</td>\n",
              "      <td>0.201756</td>\n",
              "      <td>-0.145934</td>\n",
              "      <td>1</td>\n",
              "      <td>3</td>\n",
              "      <td>0</td>\n",
              "      <td>0</td>\n",
              "      <td>0</td>\n",
              "    </tr>\n",
              "    <tr>\n",
              "      <th>12628</th>\n",
              "      <td>0.687559</td>\n",
              "      <td>1</td>\n",
              "      <td>-0.047097</td>\n",
              "      <td>1.106829</td>\n",
              "      <td>-0.395408</td>\n",
              "      <td>-0.145934</td>\n",
              "      <td>1</td>\n",
              "      <td>1</td>\n",
              "      <td>0</td>\n",
              "      <td>0</td>\n",
              "      <td>1</td>\n",
              "    </tr>\n",
              "    <tr>\n",
              "      <th>10539</th>\n",
              "      <td>0.982925</td>\n",
              "      <td>2</td>\n",
              "      <td>0.936088</td>\n",
              "      <td>-0.147250</td>\n",
              "      <td>0.798920</td>\n",
              "      <td>1.928954</td>\n",
              "      <td>1</td>\n",
              "      <td>1</td>\n",
              "      <td>0</td>\n",
              "      <td>0</td>\n",
              "      <td>1</td>\n",
              "    </tr>\n",
              "  </tbody>\n",
              "</table>\n",
              "</div>"
            ],
            "text/plain": [
              "            AGE  GENDER    HEIGHT  ...  SMOKE  ALCOHOL  PHYSICAL_ACTIVITY\n",
              "18619 -1.675374       1 -1.153180  ...      0        0                  1\n",
              "49555  0.096826       1 -0.661587  ...      0        0                  1\n",
              "15399 -1.823057       2  0.813190  ...      0        0                  1\n",
              "40554  1.278292       1 -1.030282  ...      0        0                  1\n",
              "39145  0.096826       1  0.690292  ...      0        0                  1\n",
              "2601  -1.970740       2  0.690292  ...      0        0                  1\n",
              "55375 -1.970740       1  0.444495  ...      0        0                  1\n",
              "60249  0.687559       1  2.410865  ...      0        0                  0\n",
              "12628  0.687559       1 -0.047097  ...      0        0                  1\n",
              "10539  0.982925       2  0.936088  ...      0        0                  1\n",
              "\n",
              "[10 rows x 11 columns]"
            ]
          },
          "metadata": {
            "tags": []
          },
          "execution_count": 9
        }
      ]
    },
    {
      "cell_type": "code",
      "metadata": {
        "id": "kkyVUHM3OaKi"
      },
      "source": [
        "model = SVC(random_state = 13)"
      ],
      "execution_count": null,
      "outputs": []
    },
    {
      "cell_type": "code",
      "metadata": {
        "colab": {
          "base_uri": "https://localhost:8080/"
        },
        "id": "E_jq7vUoOejX",
        "outputId": "e7d48de6-301e-4de3-a633-7f490b39f887"
      },
      "source": [
        "model.fit(X_train, y_train)"
      ],
      "execution_count": null,
      "outputs": [
        {
          "output_type": "execute_result",
          "data": {
            "text/plain": [
              "SVC(C=1.0, break_ties=False, cache_size=200, class_weight=None, coef0=0.0,\n",
              "    decision_function_shape='ovr', degree=3, gamma='scale', kernel='rbf',\n",
              "    max_iter=-1, probability=False, random_state=13, shrinking=True, tol=0.001,\n",
              "    verbose=False)"
            ]
          },
          "metadata": {
            "tags": []
          },
          "execution_count": 11
        }
      ]
    },
    {
      "cell_type": "code",
      "metadata": {
        "id": "g47Uy8zZOlSa"
      },
      "source": [
        "prediction_test = model.predict(X_test)"
      ],
      "execution_count": null,
      "outputs": []
    },
    {
      "cell_type": "code",
      "metadata": {
        "colab": {
          "base_uri": "https://localhost:8080/"
        },
        "id": "o4K-48P0Ono8",
        "outputId": "2192180b-6ea5-45f8-93ff-10b89e8e1f6c"
      },
      "source": [
        "print (\"Accuracy = \", metrics.accuracy_score(y_test, prediction_test))"
      ],
      "execution_count": null,
      "outputs": [
        {
          "output_type": "stream",
          "text": [
            "Accuracy =  0.7347772186975863\n"
          ],
          "name": "stdout"
        }
      ]
    },
    {
      "cell_type": "code",
      "metadata": {
        "id": "UnO99qb3P4e8"
      },
      "source": [
        "param_grid = [\n",
        "              {'C':[0.5,5,10,100],\n",
        "              'gamma':['scale',1,0.1,0.01,0.001,0.0001],\n",
        "               'kernel':['rbf']},\n",
        "                       ]"
      ],
      "execution_count": null,
      "outputs": []
    },
    {
      "cell_type": "code",
      "metadata": {
        "id": "UzGLNY9pQH4V"
      },
      "source": [
        "optimal_params = GridSearchCV(\n",
        "    SVC(),\n",
        "    param_grid,\n",
        "    cv=3,\n",
        "    scoring='accuracy',\n",
        "    verbose=2\n",
        ")"
      ],
      "execution_count": null,
      "outputs": []
    },
    {
      "cell_type": "code",
      "metadata": {
        "colab": {
          "base_uri": "https://localhost:8080/"
        },
        "id": "iWKXZW6LQLae",
        "outputId": "a9604306-5efa-402c-e8af-837a9f426f45"
      },
      "source": [
        "optimal_params.fit(X_train,y_train)"
      ],
      "execution_count": null,
      "outputs": [
        {
          "output_type": "stream",
          "text": [
            "Fitting 3 folds for each of 24 candidates, totalling 72 fits\n",
            "[CV] C=0.5, gamma=scale, kernel=rbf ..................................\n"
          ],
          "name": "stdout"
        },
        {
          "output_type": "stream",
          "text": [
            "[Parallel(n_jobs=1)]: Using backend SequentialBackend with 1 concurrent workers.\n"
          ],
          "name": "stderr"
        },
        {
          "output_type": "stream",
          "text": [
            "[CV] ................... C=0.5, gamma=scale, kernel=rbf, total= 1.2min\n",
            "[CV] C=0.5, gamma=scale, kernel=rbf ..................................\n"
          ],
          "name": "stdout"
        },
        {
          "output_type": "stream",
          "text": [
            "[Parallel(n_jobs=1)]: Done   1 out of   1 | elapsed:  1.2min remaining:    0.0s\n"
          ],
          "name": "stderr"
        },
        {
          "output_type": "stream",
          "text": [
            "[CV] ................... C=0.5, gamma=scale, kernel=rbf, total= 1.2min\n",
            "[CV] C=0.5, gamma=scale, kernel=rbf ..................................\n",
            "[CV] ................... C=0.5, gamma=scale, kernel=rbf, total= 1.2min\n",
            "[CV] C=0.5, gamma=1, kernel=rbf ......................................\n",
            "[CV] ....................... C=0.5, gamma=1, kernel=rbf, total= 2.5min\n",
            "[CV] C=0.5, gamma=1, kernel=rbf ......................................\n",
            "[CV] ....................... C=0.5, gamma=1, kernel=rbf, total= 2.5min\n",
            "[CV] C=0.5, gamma=1, kernel=rbf ......................................\n",
            "[CV] ....................... C=0.5, gamma=1, kernel=rbf, total= 2.5min\n",
            "[CV] C=0.5, gamma=0.1, kernel=rbf ....................................\n",
            "[CV] ..................... C=0.5, gamma=0.1, kernel=rbf, total= 1.2min\n",
            "[CV] C=0.5, gamma=0.1, kernel=rbf ....................................\n",
            "[CV] ..................... C=0.5, gamma=0.1, kernel=rbf, total= 1.2min\n",
            "[CV] C=0.5, gamma=0.1, kernel=rbf ....................................\n",
            "[CV] ..................... C=0.5, gamma=0.1, kernel=rbf, total= 1.2min\n",
            "[CV] C=0.5, gamma=0.01, kernel=rbf ...................................\n",
            "[CV] .................... C=0.5, gamma=0.01, kernel=rbf, total= 1.1min\n",
            "[CV] C=0.5, gamma=0.01, kernel=rbf ...................................\n",
            "[CV] .................... C=0.5, gamma=0.01, kernel=rbf, total= 1.1min\n",
            "[CV] C=0.5, gamma=0.01, kernel=rbf ...................................\n",
            "[CV] .................... C=0.5, gamma=0.01, kernel=rbf, total= 1.1min\n",
            "[CV] C=0.5, gamma=0.001, kernel=rbf ..................................\n",
            "[CV] ................... C=0.5, gamma=0.001, kernel=rbf, total= 1.2min\n",
            "[CV] C=0.5, gamma=0.001, kernel=rbf ..................................\n",
            "[CV] ................... C=0.5, gamma=0.001, kernel=rbf, total= 1.2min\n",
            "[CV] C=0.5, gamma=0.001, kernel=rbf ..................................\n",
            "[CV] ................... C=0.5, gamma=0.001, kernel=rbf, total= 1.2min\n",
            "[CV] C=0.5, gamma=0.0001, kernel=rbf .................................\n",
            "[CV] .................. C=0.5, gamma=0.0001, kernel=rbf, total= 1.3min\n",
            "[CV] C=0.5, gamma=0.0001, kernel=rbf .................................\n",
            "[CV] .................. C=0.5, gamma=0.0001, kernel=rbf, total= 1.3min\n",
            "[CV] C=0.5, gamma=0.0001, kernel=rbf .................................\n",
            "[CV] .................. C=0.5, gamma=0.0001, kernel=rbf, total= 1.3min\n",
            "[CV] C=5, gamma=scale, kernel=rbf ....................................\n",
            "[CV] ..................... C=5, gamma=scale, kernel=rbf, total= 1.5min\n",
            "[CV] C=5, gamma=scale, kernel=rbf ....................................\n",
            "[CV] ..................... C=5, gamma=scale, kernel=rbf, total= 1.5min\n",
            "[CV] C=5, gamma=scale, kernel=rbf ....................................\n",
            "[CV] ..................... C=5, gamma=scale, kernel=rbf, total= 1.6min\n",
            "[CV] C=5, gamma=1, kernel=rbf ........................................\n",
            "[CV] ......................... C=5, gamma=1, kernel=rbf, total= 5.3min\n",
            "[CV] C=5, gamma=1, kernel=rbf ........................................\n",
            "[CV] ......................... C=5, gamma=1, kernel=rbf, total= 5.3min\n",
            "[CV] C=5, gamma=1, kernel=rbf ........................................\n",
            "[CV] ......................... C=5, gamma=1, kernel=rbf, total= 5.3min\n",
            "[CV] C=5, gamma=0.1, kernel=rbf ......................................\n",
            "[CV] ....................... C=5, gamma=0.1, kernel=rbf, total= 1.5min\n",
            "[CV] C=5, gamma=0.1, kernel=rbf ......................................\n",
            "[CV] ....................... C=5, gamma=0.1, kernel=rbf, total= 1.5min\n",
            "[CV] C=5, gamma=0.1, kernel=rbf ......................................\n",
            "[CV] ....................... C=5, gamma=0.1, kernel=rbf, total= 1.5min\n",
            "[CV] C=5, gamma=0.01, kernel=rbf .....................................\n",
            "[CV] ...................... C=5, gamma=0.01, kernel=rbf, total= 1.2min\n",
            "[CV] C=5, gamma=0.01, kernel=rbf .....................................\n",
            "[CV] ...................... C=5, gamma=0.01, kernel=rbf, total= 1.1min\n",
            "[CV] C=5, gamma=0.01, kernel=rbf .....................................\n",
            "[CV] ...................... C=5, gamma=0.01, kernel=rbf, total= 1.1min\n",
            "[CV] C=5, gamma=0.001, kernel=rbf ....................................\n",
            "[CV] ..................... C=5, gamma=0.001, kernel=rbf, total= 1.2min\n",
            "[CV] C=5, gamma=0.001, kernel=rbf ....................................\n",
            "[CV] ..................... C=5, gamma=0.001, kernel=rbf, total= 1.2min\n",
            "[CV] C=5, gamma=0.001, kernel=rbf ....................................\n",
            "[CV] ..................... C=5, gamma=0.001, kernel=rbf, total= 1.2min\n",
            "[CV] C=5, gamma=0.0001, kernel=rbf ...................................\n",
            "[CV] .................... C=5, gamma=0.0001, kernel=rbf, total= 1.2min\n",
            "[CV] C=5, gamma=0.0001, kernel=rbf ...................................\n",
            "[CV] .................... C=5, gamma=0.0001, kernel=rbf, total= 1.2min\n",
            "[CV] C=5, gamma=0.0001, kernel=rbf ...................................\n",
            "[CV] .................... C=5, gamma=0.0001, kernel=rbf, total= 1.2min\n",
            "[CV] C=10, gamma=scale, kernel=rbf ...................................\n",
            "[CV] .................... C=10, gamma=scale, kernel=rbf, total= 2.0min\n",
            "[CV] C=10, gamma=scale, kernel=rbf ...................................\n",
            "[CV] .................... C=10, gamma=scale, kernel=rbf, total= 1.9min\n",
            "[CV] C=10, gamma=scale, kernel=rbf ...................................\n",
            "[CV] .................... C=10, gamma=scale, kernel=rbf, total= 1.9min\n",
            "[CV] C=10, gamma=1, kernel=rbf .......................................\n",
            "[CV] ........................ C=10, gamma=1, kernel=rbf, total= 7.2min\n",
            "[CV] C=10, gamma=1, kernel=rbf .......................................\n",
            "[CV] ........................ C=10, gamma=1, kernel=rbf, total= 7.3min\n",
            "[CV] C=10, gamma=1, kernel=rbf .......................................\n",
            "[CV] ........................ C=10, gamma=1, kernel=rbf, total= 7.2min\n",
            "[CV] C=10, gamma=0.1, kernel=rbf .....................................\n",
            "[CV] ...................... C=10, gamma=0.1, kernel=rbf, total= 2.0min\n",
            "[CV] C=10, gamma=0.1, kernel=rbf .....................................\n",
            "[CV] ...................... C=10, gamma=0.1, kernel=rbf, total= 2.0min\n",
            "[CV] C=10, gamma=0.1, kernel=rbf .....................................\n",
            "[CV] ...................... C=10, gamma=0.1, kernel=rbf, total= 2.0min\n",
            "[CV] C=10, gamma=0.01, kernel=rbf ....................................\n",
            "[CV] ..................... C=10, gamma=0.01, kernel=rbf, total= 1.2min\n",
            "[CV] C=10, gamma=0.01, kernel=rbf ....................................\n",
            "[CV] ..................... C=10, gamma=0.01, kernel=rbf, total= 1.2min\n",
            "[CV] C=10, gamma=0.01, kernel=rbf ....................................\n",
            "[CV] ..................... C=10, gamma=0.01, kernel=rbf, total= 1.2min\n",
            "[CV] C=10, gamma=0.001, kernel=rbf ...................................\n",
            "[CV] .................... C=10, gamma=0.001, kernel=rbf, total= 1.2min\n",
            "[CV] C=10, gamma=0.001, kernel=rbf ...................................\n",
            "[CV] .................... C=10, gamma=0.001, kernel=rbf, total= 1.1min\n",
            "[CV] C=10, gamma=0.001, kernel=rbf ...................................\n",
            "[CV] .................... C=10, gamma=0.001, kernel=rbf, total= 1.2min\n",
            "[CV] C=10, gamma=0.0001, kernel=rbf ..................................\n",
            "[CV] ................... C=10, gamma=0.0001, kernel=rbf, total= 1.2min\n",
            "[CV] C=10, gamma=0.0001, kernel=rbf ..................................\n",
            "[CV] ................... C=10, gamma=0.0001, kernel=rbf, total= 1.2min\n",
            "[CV] C=10, gamma=0.0001, kernel=rbf ..................................\n",
            "[CV] ................... C=10, gamma=0.0001, kernel=rbf, total= 1.2min\n",
            "[CV] C=100, gamma=scale, kernel=rbf ..................................\n",
            "[CV] ................... C=100, gamma=scale, kernel=rbf, total= 8.0min\n",
            "[CV] C=100, gamma=scale, kernel=rbf ..................................\n",
            "[CV] ................... C=100, gamma=scale, kernel=rbf, total= 8.0min\n",
            "[CV] C=100, gamma=scale, kernel=rbf ..................................\n",
            "[CV] ................... C=100, gamma=scale, kernel=rbf, total= 8.0min\n",
            "[CV] C=100, gamma=1, kernel=rbf ......................................\n",
            "[CV] ....................... C=100, gamma=1, kernel=rbf, total=23.9min\n",
            "[CV] C=100, gamma=1, kernel=rbf ......................................\n",
            "[CV] ....................... C=100, gamma=1, kernel=rbf, total=23.6min\n",
            "[CV] C=100, gamma=1, kernel=rbf ......................................\n",
            "[CV] ....................... C=100, gamma=1, kernel=rbf, total=24.3min\n",
            "[CV] C=100, gamma=0.1, kernel=rbf ....................................\n",
            "[CV] ..................... C=100, gamma=0.1, kernel=rbf, total= 8.1min\n",
            "[CV] C=100, gamma=0.1, kernel=rbf ....................................\n",
            "[CV] ..................... C=100, gamma=0.1, kernel=rbf, total= 8.0min\n",
            "[CV] C=100, gamma=0.1, kernel=rbf ....................................\n",
            "[CV] ..................... C=100, gamma=0.1, kernel=rbf, total= 7.9min\n",
            "[CV] C=100, gamma=0.01, kernel=rbf ...................................\n",
            "[CV] .................... C=100, gamma=0.01, kernel=rbf, total= 1.7min\n",
            "[CV] C=100, gamma=0.01, kernel=rbf ...................................\n",
            "[CV] .................... C=100, gamma=0.01, kernel=rbf, total= 1.7min\n",
            "[CV] C=100, gamma=0.01, kernel=rbf ...................................\n",
            "[CV] ................... C=100, gamma=0.001, kernel=rbf, total= 1.2min\n",
            "[CV] C=100, gamma=0.001, kernel=rbf ..................................\n",
            "[CV] ................... C=100, gamma=0.001, kernel=rbf, total= 1.2min\n",
            "[CV] C=100, gamma=0.001, kernel=rbf ..................................\n",
            "[CV] ................... C=100, gamma=0.001, kernel=rbf, total= 1.2min\n",
            "[CV] C=100, gamma=0.0001, kernel=rbf .................................\n",
            "[CV] .................. C=100, gamma=0.0001, kernel=rbf, total= 1.2min\n",
            "[CV] C=100, gamma=0.0001, kernel=rbf .................................\n",
            "[CV] .................. C=100, gamma=0.0001, kernel=rbf, total= 1.2min\n",
            "[CV] C=100, gamma=0.0001, kernel=rbf .................................\n",
            "[CV] .................. C=100, gamma=0.0001, kernel=rbf, total= 1.2min\n"
          ],
          "name": "stdout"
        },
        {
          "output_type": "stream",
          "text": [
            "[Parallel(n_jobs=1)]: Done  72 out of  72 | elapsed: 237.4min finished\n"
          ],
          "name": "stderr"
        },
        {
          "output_type": "execute_result",
          "data": {
            "text/plain": [
              "GridSearchCV(cv=3, error_score=nan,\n",
              "             estimator=SVC(C=1.0, break_ties=False, cache_size=200,\n",
              "                           class_weight=None, coef0=0.0,\n",
              "                           decision_function_shape='ovr', degree=3,\n",
              "                           gamma='scale', kernel='rbf', max_iter=-1,\n",
              "                           probability=False, random_state=None, shrinking=True,\n",
              "                           tol=0.001, verbose=False),\n",
              "             iid='deprecated', n_jobs=None,\n",
              "             param_grid=[{'C': [0.5, 5, 10, 100],\n",
              "                          'gamma': ['scale', 1, 0.1, 0.01, 0.001, 0.0001],\n",
              "                          'kernel': ['rbf']}],\n",
              "             pre_dispatch='2*n_jobs', refit=True, return_train_score=False,\n",
              "             scoring='accuracy', verbose=2)"
            ]
          },
          "metadata": {
            "tags": []
          },
          "execution_count": 34
        }
      ]
    },
    {
      "cell_type": "code",
      "metadata": {
        "colab": {
          "base_uri": "https://localhost:8080/"
        },
        "id": "rPTtH5dYQPUU",
        "outputId": "d1f210a3-ca06-4589-d248-d0041ba23021"
      },
      "source": [
        "#en jouant sur les meilleurs parametres pour augmenter l'Accuracy\n",
        "print(optimal_params.best_params_)\n"
      ],
      "execution_count": null,
      "outputs": [
        {
          "output_type": "stream",
          "text": [
            "{'C': 0.5, 'gamma': 'scale', 'kernel': 'rbf'}\n"
          ],
          "name": "stdout"
        }
      ]
    },
    {
      "cell_type": "code",
      "metadata": {
        "id": "MvG8ZufkhzYk"
      },
      "source": [
        "model2 = SVC(C=0.5,gamma='scale',kernel='rbf', random_state = 25)"
      ],
      "execution_count": null,
      "outputs": []
    },
    {
      "cell_type": "code",
      "metadata": {
        "colab": {
          "base_uri": "https://localhost:8080/"
        },
        "id": "M6J1ovzji_Mb",
        "outputId": "35f2ee46-0fd9-4b78-c6c7-2e0fabf1fdd3"
      },
      "source": [
        "model2.fit(X_train, y_train)"
      ],
      "execution_count": null,
      "outputs": [
        {
          "output_type": "execute_result",
          "data": {
            "text/plain": [
              "SVC(C=0.5, break_ties=False, cache_size=200, class_weight=None, coef0=0.0,\n",
              "    decision_function_shape='ovr', degree=3, gamma='scale', kernel='rbf',\n",
              "    max_iter=-1, probability=False, random_state=25, shrinking=True, tol=0.001,\n",
              "    verbose=False)"
            ]
          },
          "metadata": {
            "tags": []
          },
          "execution_count": 38
        }
      ]
    },
    {
      "cell_type": "code",
      "metadata": {
        "id": "34gxJrE7jI_1"
      },
      "source": [
        "prediction_test2 = model2.predict(X_test)"
      ],
      "execution_count": null,
      "outputs": []
    },
    {
      "cell_type": "code",
      "metadata": {
        "colab": {
          "base_uri": "https://localhost:8080/"
        },
        "id": "2z4sKlfqjL0j",
        "outputId": "9cdcc3aa-7852-49b1-c516-60e985e77d38"
      },
      "source": [
        "print (\"Accuracy = \", metrics.accuracy_score(y_test, prediction_test2))"
      ],
      "execution_count": null,
      "outputs": [
        {
          "output_type": "stream",
          "text": [
            "Accuracy =  0.7338292131554\n"
          ],
          "name": "stdout"
        }
      ]
    },
    {
      "cell_type": "code",
      "metadata": {
        "id": "S0Et80FqjOXr"
      },
      "source": [
        "#la validation croisée n'a pas progressé, nous sauvegardons donc le premier modèle\n",
        "filename = '/content/Drive/MyDrive/Cardio vascular models/model SVM  acc_73_477.sav'\n",
        "pickle.dump(model, open(filename, 'wb'))"
      ],
      "execution_count": null,
      "outputs": []
    },
    {
      "cell_type": "code",
      "metadata": {
        "id": "GgsiU_m9jXJO"
      },
      "source": [
        "param_grid2 = [\n",
        "              {'C':[3,7,9,15],\n",
        "              'gamma':['scale',0.1,0.01,0.001,0.0001],\n",
        "               'kernel':['rbf']},\n",
        "                       ]"
      ],
      "execution_count": null,
      "outputs": []
    },
    {
      "cell_type": "code",
      "metadata": {
        "id": "5ZSXvHBDoJBB"
      },
      "source": [
        "optimal_params2 = GridSearchCV(\n",
        "    SVC(),\n",
        "    param_grid2,\n",
        "    cv=3,\n",
        "    scoring='accuracy',\n",
        "    verbose=2\n",
        ")"
      ],
      "execution_count": null,
      "outputs": []
    },
    {
      "cell_type": "code",
      "metadata": {
        "colab": {
          "base_uri": "https://localhost:8080/"
        },
        "id": "Jov8x6apo2ez",
        "outputId": "6e3b5a40-2152-4cb5-d56e-fe59b2be1152"
      },
      "source": [
        "optimal_params2.fit(X_train,y_train)"
      ],
      "execution_count": null,
      "outputs": [
        {
          "output_type": "stream",
          "text": [
            "Fitting 3 folds for each of 20 candidates, totalling 60 fits\n",
            "[CV] C=3, gamma=scale, kernel=rbf ....................................\n"
          ],
          "name": "stdout"
        },
        {
          "output_type": "stream",
          "text": [
            "[Parallel(n_jobs=1)]: Using backend SequentialBackend with 1 concurrent workers.\n"
          ],
          "name": "stderr"
        },
        {
          "output_type": "stream",
          "text": [
            "[CV] ..................... C=3, gamma=scale, kernel=rbf, total= 1.4min\n",
            "[CV] C=3, gamma=scale, kernel=rbf ....................................\n"
          ],
          "name": "stdout"
        },
        {
          "output_type": "stream",
          "text": [
            "[Parallel(n_jobs=1)]: Done   1 out of   1 | elapsed:  1.4min remaining:    0.0s\n"
          ],
          "name": "stderr"
        },
        {
          "output_type": "stream",
          "text": [
            "[CV] ..................... C=3, gamma=scale, kernel=rbf, total= 1.3min\n",
            "[CV] C=3, gamma=scale, kernel=rbf ....................................\n",
            "[CV] ..................... C=3, gamma=scale, kernel=rbf, total= 1.4min\n",
            "[CV] C=3, gamma=0.1, kernel=rbf ......................................\n",
            "[CV] ....................... C=3, gamma=0.1, kernel=rbf, total= 1.4min\n",
            "[CV] C=3, gamma=0.1, kernel=rbf ......................................\n",
            "[CV] ....................... C=3, gamma=0.1, kernel=rbf, total= 1.4min\n",
            "[CV] C=3, gamma=0.1, kernel=rbf ......................................\n",
            "[CV] ....................... C=3, gamma=0.1, kernel=rbf, total= 1.4min\n",
            "[CV] C=3, gamma=0.01, kernel=rbf .....................................\n",
            "[CV] ...................... C=3, gamma=0.01, kernel=rbf, total= 1.1min\n",
            "[CV] C=3, gamma=0.01, kernel=rbf .....................................\n",
            "[CV] ...................... C=3, gamma=0.01, kernel=rbf, total= 1.1min\n",
            "[CV] C=3, gamma=0.01, kernel=rbf .....................................\n",
            "[CV] ...................... C=3, gamma=0.01, kernel=rbf, total= 1.1min\n",
            "[CV] C=3, gamma=0.001, kernel=rbf ....................................\n",
            "[CV] ..................... C=3, gamma=0.001, kernel=rbf, total= 1.2min\n",
            "[CV] C=3, gamma=0.001, kernel=rbf ....................................\n",
            "[CV] ..................... C=3, gamma=0.001, kernel=rbf, total= 1.1min\n",
            "[CV] C=3, gamma=0.001, kernel=rbf ....................................\n",
            "[CV] ..................... C=3, gamma=0.001, kernel=rbf, total= 1.2min\n",
            "[CV] C=3, gamma=0.0001, kernel=rbf ...................................\n",
            "[CV] .................... C=3, gamma=0.0001, kernel=rbf, total= 1.2min\n",
            "[CV] C=3, gamma=0.0001, kernel=rbf ...................................\n",
            "[CV] .................... C=3, gamma=0.0001, kernel=rbf, total= 1.2min\n",
            "[CV] C=3, gamma=0.0001, kernel=rbf ...................................\n",
            "[CV] .................... C=3, gamma=0.0001, kernel=rbf, total= 1.2min\n",
            "[CV] C=7, gamma=scale, kernel=rbf ....................................\n",
            "[CV] ..................... C=7, gamma=scale, kernel=rbf, total= 1.7min\n",
            "[CV] C=7, gamma=scale, kernel=rbf ....................................\n",
            "[CV] ..................... C=7, gamma=scale, kernel=rbf, total= 1.6min\n",
            "[CV] C=7, gamma=scale, kernel=rbf ....................................\n",
            "[CV] ..................... C=7, gamma=scale, kernel=rbf, total= 1.7min\n",
            "[CV] C=7, gamma=0.1, kernel=rbf ......................................\n",
            "[CV] ....................... C=7, gamma=0.1, kernel=rbf, total= 1.7min\n",
            "[CV] C=7, gamma=0.1, kernel=rbf ......................................\n",
            "[CV] ....................... C=7, gamma=0.1, kernel=rbf, total= 1.6min\n",
            "[CV] C=7, gamma=0.1, kernel=rbf ......................................\n",
            "[CV] ....................... C=7, gamma=0.1, kernel=rbf, total= 1.7min\n",
            "[CV] C=7, gamma=0.01, kernel=rbf .....................................\n",
            "[CV] ...................... C=7, gamma=0.01, kernel=rbf, total= 1.2min\n",
            "[CV] C=7, gamma=0.01, kernel=rbf .....................................\n",
            "[CV] ...................... C=7, gamma=0.01, kernel=rbf, total= 1.2min\n",
            "[CV] C=7, gamma=0.01, kernel=rbf .....................................\n",
            "[CV] ...................... C=7, gamma=0.01, kernel=rbf, total= 1.2min\n",
            "[CV] C=7, gamma=0.001, kernel=rbf ....................................\n",
            "[CV] ..................... C=7, gamma=0.001, kernel=rbf, total= 1.2min\n",
            "[CV] C=7, gamma=0.001, kernel=rbf ....................................\n",
            "[CV] ..................... C=7, gamma=0.001, kernel=rbf, total= 1.2min\n",
            "[CV] C=7, gamma=0.001, kernel=rbf ....................................\n",
            "[CV] ..................... C=7, gamma=0.001, kernel=rbf, total= 1.2min\n",
            "[CV] C=7, gamma=0.0001, kernel=rbf ...................................\n",
            "[CV] .................... C=7, gamma=0.0001, kernel=rbf, total= 1.2min\n",
            "[CV] C=7, gamma=0.0001, kernel=rbf ...................................\n",
            "[CV] .................... C=7, gamma=0.0001, kernel=rbf, total= 1.2min\n",
            "[CV] C=7, gamma=0.0001, kernel=rbf ...................................\n",
            "[CV] .................... C=7, gamma=0.0001, kernel=rbf, total= 1.2min\n",
            "[CV] C=9, gamma=scale, kernel=rbf ....................................\n",
            "[CV] ..................... C=9, gamma=scale, kernel=rbf, total= 1.8min\n",
            "[CV] C=9, gamma=scale, kernel=rbf ....................................\n",
            "[CV] ..................... C=9, gamma=scale, kernel=rbf, total= 1.8min\n",
            "[CV] C=9, gamma=scale, kernel=rbf ....................................\n",
            "[CV] ..................... C=9, gamma=scale, kernel=rbf, total= 1.8min\n",
            "[CV] C=9, gamma=0.1, kernel=rbf ......................................\n",
            "[CV] ....................... C=9, gamma=0.1, kernel=rbf, total= 1.8min\n",
            "[CV] C=9, gamma=0.1, kernel=rbf ......................................\n",
            "[CV] ....................... C=9, gamma=0.1, kernel=rbf, total= 1.8min\n",
            "[CV] C=9, gamma=0.1, kernel=rbf ......................................\n",
            "[CV] ....................... C=9, gamma=0.1, kernel=rbf, total= 1.8min\n",
            "[CV] C=9, gamma=0.01, kernel=rbf .....................................\n",
            "[CV] ...................... C=9, gamma=0.01, kernel=rbf, total= 1.2min\n",
            "[CV] C=9, gamma=0.01, kernel=rbf .....................................\n",
            "[CV] ...................... C=9, gamma=0.01, kernel=rbf, total= 1.1min\n",
            "[CV] C=9, gamma=0.01, kernel=rbf .....................................\n",
            "[CV] ...................... C=9, gamma=0.01, kernel=rbf, total= 1.2min\n",
            "[CV] C=9, gamma=0.001, kernel=rbf ....................................\n",
            "[CV] ..................... C=9, gamma=0.001, kernel=rbf, total= 1.2min\n",
            "[CV] C=9, gamma=0.001, kernel=rbf ....................................\n",
            "[CV] ..................... C=9, gamma=0.001, kernel=rbf, total= 1.1min\n",
            "[CV] C=9, gamma=0.001, kernel=rbf ....................................\n",
            "[CV] ..................... C=9, gamma=0.001, kernel=rbf, total= 1.2min\n",
            "[CV] C=9, gamma=0.0001, kernel=rbf ...................................\n",
            "[CV] .................... C=9, gamma=0.0001, kernel=rbf, total= 1.2min\n",
            "[CV] C=9, gamma=0.0001, kernel=rbf ...................................\n",
            "[CV] .................... C=9, gamma=0.0001, kernel=rbf, total= 1.2min\n",
            "[CV] C=9, gamma=0.0001, kernel=rbf ...................................\n",
            "[CV] .................... C=9, gamma=0.0001, kernel=rbf, total= 1.2min\n",
            "[CV] C=15, gamma=scale, kernel=rbf ...................................\n",
            "[CV] .................... C=15, gamma=scale, kernel=rbf, total= 2.3min\n",
            "[CV] C=15, gamma=scale, kernel=rbf ...................................\n",
            "[CV] .................... C=15, gamma=scale, kernel=rbf, total= 2.2min\n",
            "[CV] C=15, gamma=scale, kernel=rbf ...................................\n",
            "[CV] .................... C=15, gamma=scale, kernel=rbf, total= 2.3min\n",
            "[CV] C=15, gamma=0.1, kernel=rbf .....................................\n",
            "[CV] ...................... C=15, gamma=0.1, kernel=rbf, total= 2.3min\n",
            "[CV] C=15, gamma=0.1, kernel=rbf .....................................\n",
            "[CV] ...................... C=15, gamma=0.1, kernel=rbf, total= 2.3min\n",
            "[CV] C=15, gamma=0.1, kernel=rbf .....................................\n",
            "[CV] ...................... C=15, gamma=0.1, kernel=rbf, total= 2.3min\n",
            "[CV] C=15, gamma=0.01, kernel=rbf ....................................\n",
            "[CV] ..................... C=15, gamma=0.01, kernel=rbf, total= 1.2min\n",
            "[CV] C=15, gamma=0.01, kernel=rbf ....................................\n",
            "[CV] ..................... C=15, gamma=0.01, kernel=rbf, total= 1.2min\n",
            "[CV] C=15, gamma=0.01, kernel=rbf ....................................\n",
            "[CV] ..................... C=15, gamma=0.01, kernel=rbf, total= 1.2min\n",
            "[CV] C=15, gamma=0.001, kernel=rbf ...................................\n",
            "[CV] .................... C=15, gamma=0.001, kernel=rbf, total= 1.2min\n",
            "[CV] C=15, gamma=0.001, kernel=rbf ...................................\n",
            "[CV] .................... C=15, gamma=0.001, kernel=rbf, total= 1.2min\n",
            "[CV] C=15, gamma=0.001, kernel=rbf ...................................\n",
            "[CV] .................... C=15, gamma=0.001, kernel=rbf, total= 1.2min\n",
            "[CV] C=15, gamma=0.0001, kernel=rbf ..................................\n",
            "[CV] ................... C=15, gamma=0.0001, kernel=rbf, total= 1.2min\n",
            "[CV] C=15, gamma=0.0001, kernel=rbf ..................................\n",
            "[CV] ................... C=15, gamma=0.0001, kernel=rbf, total= 1.2min\n",
            "[CV] C=15, gamma=0.0001, kernel=rbf ..................................\n",
            "[CV] ................... C=15, gamma=0.0001, kernel=rbf, total= 1.2min\n"
          ],
          "name": "stdout"
        },
        {
          "output_type": "stream",
          "text": [
            "[Parallel(n_jobs=1)]: Done  60 out of  60 | elapsed: 84.8min finished\n"
          ],
          "name": "stderr"
        },
        {
          "output_type": "execute_result",
          "data": {
            "text/plain": [
              "GridSearchCV(cv=3, error_score=nan,\n",
              "             estimator=SVC(C=1.0, break_ties=False, cache_size=200,\n",
              "                           class_weight=None, coef0=0.0,\n",
              "                           decision_function_shape='ovr', degree=3,\n",
              "                           gamma='scale', kernel='rbf', max_iter=-1,\n",
              "                           probability=False, random_state=None, shrinking=True,\n",
              "                           tol=0.001, verbose=False),\n",
              "             iid='deprecated', n_jobs=None,\n",
              "             param_grid=[{'C': [3, 7, 9, 15],\n",
              "                          'gamma': ['scale', 0.1, 0.01, 0.001, 0.0001],\n",
              "                          'kernel': ['rbf']}],\n",
              "             pre_dispatch='2*n_jobs', refit=True, return_train_score=False,\n",
              "             scoring='accuracy', verbose=2)"
            ]
          },
          "metadata": {
            "tags": []
          },
          "execution_count": 14
        }
      ]
    },
    {
      "cell_type": "code",
      "metadata": {
        "id": "5WSwZwye8g9A",
        "colab": {
          "base_uri": "https://localhost:8080/"
        },
        "outputId": "67337686-f110-49b7-9dad-d2071eeaf357"
      },
      "source": [
        "print(optimal_params2.best_params_)"
      ],
      "execution_count": null,
      "outputs": [
        {
          "output_type": "stream",
          "text": [
            "{'C': 7, 'gamma': 'scale', 'kernel': 'rbf'}\n"
          ],
          "name": "stdout"
        }
      ]
    },
    {
      "cell_type": "code",
      "metadata": {
        "id": "KAQoZMUH-sGf"
      },
      "source": [
        "model3 = SVC(C=7,gamma='scale',kernel='rbf', random_state = 13)"
      ],
      "execution_count": null,
      "outputs": []
    },
    {
      "cell_type": "code",
      "metadata": {
        "colab": {
          "base_uri": "https://localhost:8080/"
        },
        "id": "YprgG5A1-2J0",
        "outputId": "54935aa9-523a-4df5-e0d3-0398618531fe"
      },
      "source": [
        "model3.fit(X_train, y_train)"
      ],
      "execution_count": null,
      "outputs": [
        {
          "output_type": "execute_result",
          "data": {
            "text/plain": [
              "SVC(C=7, break_ties=False, cache_size=200, class_weight=None, coef0=0.0,\n",
              "    decision_function_shape='ovr', degree=3, gamma='scale', kernel='rbf',\n",
              "    max_iter=-1, probability=False, random_state=13, shrinking=True, tol=0.001,\n",
              "    verbose=False)"
            ]
          },
          "metadata": {
            "tags": []
          },
          "execution_count": 9
        }
      ]
    },
    {
      "cell_type": "code",
      "metadata": {
        "id": "lQdMU5F1-vsi"
      },
      "source": [
        "prediction_test3 = model3.predict(X_test)"
      ],
      "execution_count": null,
      "outputs": []
    },
    {
      "cell_type": "code",
      "metadata": {
        "colab": {
          "base_uri": "https://localhost:8080/"
        },
        "id": "9o_JoqwX-8Gh",
        "outputId": "b9d14775-3ad0-4e08-9156-03b26bdfc334"
      },
      "source": [
        "print (\"Accuracy = \", metrics.accuracy_score(y_test, prediction_test3))"
      ],
      "execution_count": null,
      "outputs": [
        {
          "output_type": "stream",
          "text": [
            "Accuracy =  0.7349230657040764\n"
          ],
          "name": "stdout"
        }
      ]
    },
    {
      "cell_type": "code",
      "metadata": {
        "colab": {
          "base_uri": "https://localhost:8080/"
        },
        "id": "QSJIylWWk5zB",
        "outputId": "ff76a54c-7f01-45b6-82dc-7568359dd937"
      },
      "source": [
        "#Matrice de confusion \n",
        "cm = metrics.confusion_matrix(y_test,prediction_test3)\n",
        "print(cm)"
      ],
      "execution_count": null,
      "outputs": [
        {
          "output_type": "stream",
          "text": [
            "[[5577 1448]\n",
            " [2187 4501]]\n"
          ],
          "name": "stdout"
        }
      ]
    },
    {
      "cell_type": "code",
      "metadata": {
        "id": "Vd3BcG2CALKK"
      },
      "source": [
        "#pas tellement d'augmentation mais nous la sauverons\n",
        "\n",
        "filename = '/content/Drive/MyDrive/Cardio vascular models/model SVM second cross vaidation acc_73_492.sav'\n",
        "pickle.dump(model3, open(filename, 'wb'))"
      ],
      "execution_count": null,
      "outputs": []
    },
    {
      "cell_type": "code",
      "metadata": {
        "id": "4uYcRyWNAgIx"
      },
      "source": [
        "# maintenant je vais essayer de mettre à l'échelle tous les paramètres, pas seulement ceux avec de grands nombres\n",
        "#après avoir essayé de mettre à l'échelle tous les paramètres et sans aucune mise à l'échelle, nous avons constaté que la mise à l'échelle uniquement des grands nombres nous donne le meilleur résultat\n",
        "# alors maintenant nous allons essayer une autre validation croisée sur notre jeu de données et voir si l'accuarcy s'améliorera"
      ],
      "execution_count": null,
      "outputs": []
    },
    {
      "cell_type": "code",
      "metadata": {
        "id": "xdgnMtaXAoF8"
      },
      "source": [
        "param_grid3 = [\n",
        "              {'C':[0.1],\n",
        "              'gamma':['scale',1,0.1,0.01,0.001,0.0001],\n",
        "               'kernel':['rbf']},\n",
        "                       ]"
      ],
      "execution_count": null,
      "outputs": []
    },
    {
      "cell_type": "code",
      "metadata": {
        "id": "caXbNy_CD7Kz"
      },
      "source": [
        "optimal_params3 = GridSearchCV(\n",
        "    SVC(),\n",
        "    param_grid3,\n",
        "    cv=3,\n",
        "    scoring='accuracy',\n",
        "    verbose=2\n",
        ")"
      ],
      "execution_count": null,
      "outputs": []
    },
    {
      "cell_type": "code",
      "metadata": {
        "colab": {
          "base_uri": "https://localhost:8080/"
        },
        "id": "H2aZ0ao7KNNr",
        "outputId": "50ac0a22-cf46-4fea-d989-e1f0af90d05f"
      },
      "source": [
        "optimal_params3.fit(X_train,y_train)"
      ],
      "execution_count": null,
      "outputs": [
        {
          "output_type": "stream",
          "text": [
            "Fitting 3 folds for each of 6 candidates, totalling 18 fits\n",
            "[CV] C=0.1, gamma=scale, kernel=rbf ..................................\n"
          ],
          "name": "stdout"
        },
        {
          "output_type": "stream",
          "text": [
            "[Parallel(n_jobs=1)]: Using backend SequentialBackend with 1 concurrent workers.\n"
          ],
          "name": "stderr"
        },
        {
          "output_type": "stream",
          "text": [
            "[CV] ................... C=0.1, gamma=scale, kernel=rbf, total= 1.1min\n",
            "[CV] C=0.1, gamma=scale, kernel=rbf ..................................\n"
          ],
          "name": "stdout"
        },
        {
          "output_type": "stream",
          "text": [
            "[Parallel(n_jobs=1)]: Done   1 out of   1 | elapsed:  1.1min remaining:    0.0s\n"
          ],
          "name": "stderr"
        },
        {
          "output_type": "stream",
          "text": [
            "[CV] ................... C=0.1, gamma=scale, kernel=rbf, total= 1.1min\n",
            "[CV] C=0.1, gamma=scale, kernel=rbf ..................................\n",
            "[CV] ................... C=0.1, gamma=scale, kernel=rbf, total= 1.1min\n",
            "[CV] C=0.1, gamma=1, kernel=rbf ......................................\n",
            "[CV] ....................... C=0.1, gamma=1, kernel=rbf, total= 1.6min\n",
            "[CV] C=0.1, gamma=1, kernel=rbf ......................................\n",
            "[CV] ....................... C=0.1, gamma=1, kernel=rbf, total= 1.5min\n",
            "[CV] C=0.1, gamma=1, kernel=rbf ......................................\n",
            "[CV] ....................... C=0.1, gamma=1, kernel=rbf, total= 1.6min\n",
            "[CV] C=0.1, gamma=0.1, kernel=rbf ....................................\n",
            "[CV] ..................... C=0.1, gamma=0.1, kernel=rbf, total= 1.1min\n",
            "[CV] C=0.1, gamma=0.1, kernel=rbf ....................................\n",
            "[CV] ..................... C=0.1, gamma=0.1, kernel=rbf, total= 1.1min\n",
            "[CV] C=0.1, gamma=0.1, kernel=rbf ....................................\n",
            "[CV] ..................... C=0.1, gamma=0.1, kernel=rbf, total= 1.1min\n",
            "[CV] C=0.1, gamma=0.01, kernel=rbf ...................................\n",
            "[CV] .................... C=0.1, gamma=0.01, kernel=rbf, total= 1.1min\n",
            "[CV] C=0.1, gamma=0.01, kernel=rbf ...................................\n",
            "[CV] .................... C=0.1, gamma=0.01, kernel=rbf, total= 1.1min\n",
            "[CV] C=0.1, gamma=0.01, kernel=rbf ...................................\n",
            "[CV] .................... C=0.1, gamma=0.01, kernel=rbf, total= 1.1min\n",
            "[CV] C=0.1, gamma=0.001, kernel=rbf ..................................\n",
            "[CV] ................... C=0.1, gamma=0.001, kernel=rbf, total= 1.2min\n",
            "[CV] C=0.1, gamma=0.001, kernel=rbf ..................................\n",
            "[CV] ................... C=0.1, gamma=0.001, kernel=rbf, total= 1.2min\n",
            "[CV] C=0.1, gamma=0.001, kernel=rbf ..................................\n",
            "[CV] ................... C=0.1, gamma=0.001, kernel=rbf, total= 1.2min\n",
            "[CV] C=0.1, gamma=0.0001, kernel=rbf .................................\n",
            "[CV] .................. C=0.1, gamma=0.0001, kernel=rbf, total= 1.5min\n",
            "[CV] C=0.1, gamma=0.0001, kernel=rbf .................................\n",
            "[CV] .................. C=0.1, gamma=0.0001, kernel=rbf, total= 1.5min\n",
            "[CV] C=0.1, gamma=0.0001, kernel=rbf .................................\n",
            "[CV] .................. C=0.1, gamma=0.0001, kernel=rbf, total= 1.5min\n"
          ],
          "name": "stdout"
        },
        {
          "output_type": "stream",
          "text": [
            "[Parallel(n_jobs=1)]: Done  18 out of  18 | elapsed: 22.8min finished\n"
          ],
          "name": "stderr"
        },
        {
          "output_type": "execute_result",
          "data": {
            "text/plain": [
              "GridSearchCV(cv=3, error_score=nan,\n",
              "             estimator=SVC(C=1.0, break_ties=False, cache_size=200,\n",
              "                           class_weight=None, coef0=0.0,\n",
              "                           decision_function_shape='ovr', degree=3,\n",
              "                           gamma='scale', kernel='rbf', max_iter=-1,\n",
              "                           probability=False, random_state=None, shrinking=True,\n",
              "                           tol=0.001, verbose=False),\n",
              "             iid='deprecated', n_jobs=None,\n",
              "             param_grid=[{'C': [0.1],\n",
              "                          'gamma': ['scale', 1, 0.1, 0.01, 0.001, 0.0001],\n",
              "                          'kernel': ['rbf']}],\n",
              "             pre_dispatch='2*n_jobs', refit=True, return_train_score=False,\n",
              "             scoring='accuracy', verbose=2)"
            ]
          },
          "metadata": {
            "tags": []
          },
          "execution_count": 25
        }
      ]
    },
    {
      "cell_type": "code",
      "metadata": {
        "id": "eV6N6peJflgL",
        "colab": {
          "base_uri": "https://localhost:8080/"
        },
        "outputId": "6952c29d-7630-4e2e-f6b9-f6452a722891"
      },
      "source": [
        "print(optimal_params3.best_params_)"
      ],
      "execution_count": null,
      "outputs": [
        {
          "output_type": "stream",
          "text": [
            "{'C': 0.1, 'gamma': 'scale', 'kernel': 'rbf'}\n"
          ],
          "name": "stdout"
        }
      ]
    },
    {
      "cell_type": "code",
      "metadata": {
        "id": "ZdmMxpMZ1JJe"
      },
      "source": [
        "#après avoir essayé ces paramètres, la précision n'a pas augmenté, nous prenons donc toujours le résultat de la deuxième validation croisée"
      ],
      "execution_count": null,
      "outputs": []
    }
  ]
}